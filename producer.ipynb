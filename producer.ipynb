{
 "cells": [
  {
   "cell_type": "code",
   "execution_count": 33,
   "metadata": {},
   "outputs": [],
   "source": [
    "from pizzaproducer import PizzaProvider\n",
    "import random\n",
    "from faker import Faker"
   ]
  },
  {
   "cell_type": "code",
   "execution_count": 44,
   "metadata": {},
   "outputs": [],
   "source": [
    "fake=Faker()\n",
    "#for the same result\n",
    "Faker.seed(4321)\n",
    "\n",
    "MAX_NUMBER_PIZZAS_IN_ORDER = 10\n",
    "MAX_ADDITIONAL_TOPPINGS_IN_PIZZA = 5"
   ]
  },
  {
   "cell_type": "code",
   "execution_count": 35,
   "metadata": {},
   "outputs": [],
   "source": [
    "import time\n",
    "import json\n",
    "from kafka import KafkaProducer\n",
    "\n",
    "folderName = r\"kafkaCerts/\"\n",
    "\n",
    "producer = KafkaProducer(\n",
    "    bootstrap_servers=f\"faker-balckv-2a0d.aivencloud.com:12905\",\n",
    "    security_protocol=\"SSL\",\n",
    "    ssl_cafile=folderName+\"ca.pem\",\n",
    "    ssl_certfile=folderName+\"service.cert\",\n",
    "    ssl_keyfile=folderName+\"service.key\",\n",
    "    value_serializer=lambda v: json.dumps(v).encode('ascii'),\n",
    "    key_serializer=lambda v: json.dumps(v).encode('ascii')\n",
    ")"
   ]
  },
  {
   "cell_type": "code",
   "execution_count": 43,
   "metadata": {},
   "outputs": [
    {
     "name": "stdout",
     "output_type": "stream",
     "text": [
      "Mari & Monti\n"
     ]
    },
    {
     "ename": "AttributeError",
     "evalue": "'Generator' object has no attribute 'pizza_shop'",
     "output_type": "error",
     "traceback": [
      "\u001b[1;31m---------------------------------------------------------------------------\u001b[0m",
      "\u001b[1;31mAttributeError\u001b[0m                            Traceback (most recent call last)",
      "\u001b[1;32mf:\\tai_lieu\\Nam_4\\semester 7th\\Parallel and distributed computing\\assignment\\slide 5-6\\FakerData\\main_1.ipynb Cell 4\u001b[0m in \u001b[0;36m<cell line: 5>\u001b[1;34m()\u001b[0m\n\u001b[0;32m      <a href='vscode-notebook-cell:/f%3A/tai_lieu/Nam_4/semester%207th/Parallel%20and%20distributed%20computing/assignment/slide%205-6/FakerData/main_1.ipynb#W3sZmlsZQ%3D%3D?line=4'>5</a>\u001b[0m \u001b[39mfor\u001b[39;00m i \u001b[39min\u001b[39;00m \u001b[39mrange\u001b[39m(\u001b[39m0\u001b[39m,\u001b[39m10\u001b[39m):\n\u001b[0;32m      <a href='vscode-notebook-cell:/f%3A/tai_lieu/Nam_4/semester%207th/Parallel%20and%20distributed%20computing/assignment/slide%205-6/FakerData/main_1.ipynb#W3sZmlsZQ%3D%3D?line=5'>6</a>\u001b[0m     \u001b[39mprint\u001b[39m(fake\u001b[39m.\u001b[39mpizza_name())\n\u001b[1;32m----> <a href='vscode-notebook-cell:/f%3A/tai_lieu/Nam_4/semester%207th/Parallel%20and%20distributed%20computing/assignment/slide%205-6/FakerData/main_1.ipynb#W3sZmlsZQ%3D%3D?line=6'>7</a>\u001b[0m     \u001b[39mprint\u001b[39m(fake\u001b[39m.\u001b[39;49mpizza_shop())\n",
      "File \u001b[1;32md:\\anconda\\envs\\cs231\\lib\\site-packages\\faker\\proxy.py:111\u001b[0m, in \u001b[0;36mFaker.__getattr__\u001b[1;34m(self, attr)\u001b[0m\n\u001b[0;32m    104\u001b[0m \u001b[39m\"\"\"\u001b[39;00m\n\u001b[0;32m    105\u001b[0m \u001b[39mHandles cache access and proxying behavior\u001b[39;00m\n\u001b[0;32m    106\u001b[0m \n\u001b[0;32m    107\u001b[0m \u001b[39m:param attr: attribute name\u001b[39;00m\n\u001b[0;32m    108\u001b[0m \u001b[39m:return: the appropriate attribute\u001b[39;00m\n\u001b[0;32m    109\u001b[0m \u001b[39m\"\"\"\u001b[39;00m\n\u001b[0;32m    110\u001b[0m \u001b[39mif\u001b[39;00m \u001b[39mlen\u001b[39m(\u001b[39mself\u001b[39m\u001b[39m.\u001b[39m_factories) \u001b[39m==\u001b[39m \u001b[39m1\u001b[39m:\n\u001b[1;32m--> 111\u001b[0m     \u001b[39mreturn\u001b[39;00m \u001b[39mgetattr\u001b[39;49m(\u001b[39mself\u001b[39;49m\u001b[39m.\u001b[39;49m_factories[\u001b[39m0\u001b[39;49m], attr)\n\u001b[0;32m    112\u001b[0m \u001b[39melif\u001b[39;00m attr \u001b[39min\u001b[39;00m \u001b[39mself\u001b[39m\u001b[39m.\u001b[39mgenerator_attrs:\n\u001b[0;32m    113\u001b[0m     msg \u001b[39m=\u001b[39m \u001b[39m\"\u001b[39m\u001b[39mProxying calls to `\u001b[39m\u001b[39m%s\u001b[39;00m\u001b[39m` is not implemented in multiple locale mode.\u001b[39m\u001b[39m\"\u001b[39m \u001b[39m%\u001b[39m attr\n",
      "\u001b[1;31mAttributeError\u001b[0m: 'Generator' object has no attribute 'pizza_shop'"
     ]
    }
   ],
   "source": [
    "topic_name=\"pizza\"\n",
    "\n",
    "fake.add_provider(PizzaProvider)\n",
    "\n",
    "for i in range(0,10):\n",
    "    print(fake.pizza_name())\n",
    "    print(fake.pizza_shop())\n"
   ]
  },
  {
   "cell_type": "code",
   "execution_count": 39,
   "metadata": {},
   "outputs": [],
   "source": [
    "def produce_pizza_order (FakerInstance,orderid = 1):\n",
    "    shop = FakerInstance.pizza_shop()\n",
    "    # Each Order can have 1-10 pizzas in it\n",
    "    pizzas = []\n",
    "    for pizza in range(random.randint(1, MAX_NUMBER_PIZZAS_IN_ORDER)):\n",
    "        # Each Pizza can have 0-5 additional toppings on it\n",
    "        toppings = []\n",
    "        for topping in range(random.randint(0, MAX_ADDITIONAL_TOPPINGS_IN_PIZZA)):\n",
    "            toppings.append(FakerInstance.pizza_topping())\n",
    "        pizzas.append({\n",
    "            'pizzaName': FakerInstance.pizza_name(),\n",
    "            'additionalToppings': toppings\n",
    "        })\n",
    "    # message composition\n",
    "    message = {\n",
    "        'id': orderid,\n",
    "        'shop': shop,\n",
    "        'name': FakerInstance.unique.name(),\n",
    "        'phoneNumber': FakerInstance.unique.phone_number(),\n",
    "        'address': FakerInstance.address(),\n",
    "        'pizzas': pizzas\n",
    "    }\n",
    "    return message, key"
   ]
  },
  {
   "cell_type": "code",
   "execution_count": 40,
   "metadata": {},
   "outputs": [
    {
     "ename": "AttributeError",
     "evalue": "'Generator' object has no attribute 'pizza_shop'",
     "output_type": "error",
     "traceback": [
      "\u001b[1;31m---------------------------------------------------------------------------\u001b[0m",
      "\u001b[1;31mAttributeError\u001b[0m                            Traceback (most recent call last)",
      "\u001b[1;32mf:\\tai_lieu\\Nam_4\\semester 7th\\Parallel and distributed computing\\assignment\\slide 5-6\\FakerData\\main_1.ipynb Cell 6\u001b[0m in \u001b[0;36m<cell line: 1>\u001b[1;34m()\u001b[0m\n\u001b[0;32m      <a href='vscode-notebook-cell:/f%3A/tai_lieu/Nam_4/semester%207th/Parallel%20and%20distributed%20computing/assignment/slide%205-6/FakerData/main_1.ipynb#W4sZmlsZQ%3D%3D?line=0'>1</a>\u001b[0m \u001b[39mwhile\u001b[39;00m i \u001b[39m<\u001b[39m  \u001b[39m100\u001b[39m:\n\u001b[1;32m----> <a href='vscode-notebook-cell:/f%3A/tai_lieu/Nam_4/semester%207th/Parallel%20and%20distributed%20computing/assignment/slide%205-6/FakerData/main_1.ipynb#W4sZmlsZQ%3D%3D?line=1'>2</a>\u001b[0m     message, key \u001b[39m=\u001b[39m produce_pizza_order(fake,i)\n\u001b[0;32m      <a href='vscode-notebook-cell:/f%3A/tai_lieu/Nam_4/semester%207th/Parallel%20and%20distributed%20computing/assignment/slide%205-6/FakerData/main_1.ipynb#W4sZmlsZQ%3D%3D?line=3'>4</a>\u001b[0m     \u001b[39mprint\u001b[39m(\u001b[39m\"\u001b[39m\u001b[39mSending: \u001b[39m\u001b[39m{}\u001b[39;00m\u001b[39m\"\u001b[39m\u001b[39m.\u001b[39mformat(message))\n\u001b[0;32m      <a href='vscode-notebook-cell:/f%3A/tai_lieu/Nam_4/semester%207th/Parallel%20and%20distributed%20computing/assignment/slide%205-6/FakerData/main_1.ipynb#W4sZmlsZQ%3D%3D?line=4'>5</a>\u001b[0m     \u001b[39m# sending the message to Kafka\u001b[39;00m\n",
      "\u001b[1;32mf:\\tai_lieu\\Nam_4\\semester 7th\\Parallel and distributed computing\\assignment\\slide 5-6\\FakerData\\main_1.ipynb Cell 6\u001b[0m in \u001b[0;36mproduce_pizza_order\u001b[1;34m(FakerInstance, orderid)\u001b[0m\n\u001b[0;32m      <a href='vscode-notebook-cell:/f%3A/tai_lieu/Nam_4/semester%207th/Parallel%20and%20distributed%20computing/assignment/slide%205-6/FakerData/main_1.ipynb#W4sZmlsZQ%3D%3D?line=0'>1</a>\u001b[0m \u001b[39mdef\u001b[39;00m \u001b[39mproduce_pizza_order\u001b[39m (FakerInstance,orderid \u001b[39m=\u001b[39m \u001b[39m1\u001b[39m):\n\u001b[1;32m----> <a href='vscode-notebook-cell:/f%3A/tai_lieu/Nam_4/semester%207th/Parallel%20and%20distributed%20computing/assignment/slide%205-6/FakerData/main_1.ipynb#W4sZmlsZQ%3D%3D?line=1'>2</a>\u001b[0m     shop \u001b[39m=\u001b[39m FakerInstance\u001b[39m.\u001b[39;49mpizza_shop()\n\u001b[0;32m      <a href='vscode-notebook-cell:/f%3A/tai_lieu/Nam_4/semester%207th/Parallel%20and%20distributed%20computing/assignment/slide%205-6/FakerData/main_1.ipynb#W4sZmlsZQ%3D%3D?line=2'>3</a>\u001b[0m     \u001b[39m# Each Order can have 1-10 pizzas in it\u001b[39;00m\n\u001b[0;32m      <a href='vscode-notebook-cell:/f%3A/tai_lieu/Nam_4/semester%207th/Parallel%20and%20distributed%20computing/assignment/slide%205-6/FakerData/main_1.ipynb#W4sZmlsZQ%3D%3D?line=3'>4</a>\u001b[0m     pizzas \u001b[39m=\u001b[39m []\n",
      "File \u001b[1;32md:\\anconda\\envs\\cs231\\lib\\site-packages\\faker\\proxy.py:111\u001b[0m, in \u001b[0;36mFaker.__getattr__\u001b[1;34m(self, attr)\u001b[0m\n\u001b[0;32m    104\u001b[0m \u001b[39m\"\"\"\u001b[39;00m\n\u001b[0;32m    105\u001b[0m \u001b[39mHandles cache access and proxying behavior\u001b[39;00m\n\u001b[0;32m    106\u001b[0m \n\u001b[0;32m    107\u001b[0m \u001b[39m:param attr: attribute name\u001b[39;00m\n\u001b[0;32m    108\u001b[0m \u001b[39m:return: the appropriate attribute\u001b[39;00m\n\u001b[0;32m    109\u001b[0m \u001b[39m\"\"\"\u001b[39;00m\n\u001b[0;32m    110\u001b[0m \u001b[39mif\u001b[39;00m \u001b[39mlen\u001b[39m(\u001b[39mself\u001b[39m\u001b[39m.\u001b[39m_factories) \u001b[39m==\u001b[39m \u001b[39m1\u001b[39m:\n\u001b[1;32m--> 111\u001b[0m     \u001b[39mreturn\u001b[39;00m \u001b[39mgetattr\u001b[39;49m(\u001b[39mself\u001b[39;49m\u001b[39m.\u001b[39;49m_factories[\u001b[39m0\u001b[39;49m], attr)\n\u001b[0;32m    112\u001b[0m \u001b[39melif\u001b[39;00m attr \u001b[39min\u001b[39;00m \u001b[39mself\u001b[39m\u001b[39m.\u001b[39mgenerator_attrs:\n\u001b[0;32m    113\u001b[0m     msg \u001b[39m=\u001b[39m \u001b[39m\"\u001b[39m\u001b[39mProxying calls to `\u001b[39m\u001b[39m%s\u001b[39;00m\u001b[39m` is not implemented in multiple locale mode.\u001b[39m\u001b[39m\"\u001b[39m \u001b[39m%\u001b[39m attr\n",
      "\u001b[1;31mAttributeError\u001b[0m: 'Generator' object has no attribute 'pizza_shop'"
     ]
    }
   ],
   "source": [
    "while i <  100:\n",
    "    message, key = produce_pizza_order(fake,i)\n",
    "\n",
    "    print(\"Sending: {}\".format(message))\n",
    "    # sending the message to Kafka\n",
    "    producer.send(topic_name,\n",
    "                  key=key,\n",
    "                  value=message)\n",
    "    # 2 seconds of sleep time before the next message\n",
    "    time.sleep(2)\n",
    "\n",
    "    # Force sending of all messages\n",
    "    if (i % 100) == 0:\n",
    "        producer.flush()\n",
    "    i=i+1\n",
    "producer.flush()"
   ]
  }
 ],
 "metadata": {
  "kernelspec": {
   "display_name": "Python 3.10.6 ('cs231')",
   "language": "python",
   "name": "python3"
  },
  "language_info": {
   "codemirror_mode": {
    "name": "ipython",
    "version": 3
   },
   "file_extension": ".py",
   "mimetype": "text/x-python",
   "name": "python",
   "nbconvert_exporter": "python",
   "pygments_lexer": "ipython3",
   "version": "3.10.6"
  },
  "orig_nbformat": 4,
  "vscode": {
   "interpreter": {
    "hash": "59f5416c96fce867bc11ba5bb5439836c52143b711d913ce74fb5702e89c709d"
   }
  }
 },
 "nbformat": 4,
 "nbformat_minor": 2
}
