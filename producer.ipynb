{
 "cells": [
  {
   "cell_type": "code",
   "execution_count": 2,
   "metadata": {},
   "outputs": [],
   "source": [
    "from pizzaproducer import PizzaProvider\n",
    "from config import my_server\n",
    "import random\n",
    "from faker import Faker"
   ]
  },
  {
   "cell_type": "code",
   "execution_count": 3,
   "metadata": {},
   "outputs": [],
   "source": [
    "fake=Faker()\n",
    "#for the same result\n",
    "Faker.seed(4321)\n",
    "\n",
    "MAX_NUMBER_PIZZAS_IN_ORDER = 10\n",
    "MAX_ADDITIONAL_TOPPINGS_IN_PIZZA = 5"
   ]
  },
  {
   "cell_type": "code",
   "execution_count": 4,
   "metadata": {},
   "outputs": [],
   "source": [
    "import time\n",
    "import json\n",
    "from kafka import KafkaProducer\n",
    "\n",
    "folderName = r\"kafkaCerts/\"\n",
    "\n",
    "producer = KafkaProducer(\n",
    "    #my_server has form <INSTANCE_NAME>-<PROJECT_NAME>.aivencloud.come:<PORT>, and it is Service URI \n",
    "    bootstrap_servers=my_server,\n",
    "    security_protocol=\"SSL\",\n",
    "    ssl_cafile=folderName+\"ca.pem\",\n",
    "    ssl_certfile=folderName+\"service.cert\",\n",
    "    ssl_keyfile=folderName+\"service.key\",\n",
    "    value_serializer=lambda v: json.dumps(v).encode('ascii'),\n",
    "    key_serializer=lambda v: json.dumps(v).encode('ascii')\n",
    ")"
   ]
  },
  {
   "cell_type": "code",
   "execution_count": 5,
   "metadata": {},
   "outputs": [
    {
     "name": "stdout",
     "output_type": "stream",
     "text": [
      "Salami\n",
      "Pepperoni\n",
      "Pepperoni\n",
      "Marinara\n",
      "Margherita\n",
      "Marinara\n",
      "Marinara\n",
      "Salami\n",
      "Salami\n",
      "Margherita\n"
     ]
    }
   ],
   "source": [
    "topic_name=\"pizza\"\n",
    "\n",
    "fake.add_provider(PizzaProvider)\n",
    "\n",
    "for i in range(0,10):\n",
    "    print(fake.pizza_name())"
   ]
  },
  {
   "cell_type": "code",
   "execution_count": 6,
   "metadata": {},
   "outputs": [],
   "source": [
    "def produce_pizza_order (FakerInstance,orderid = 1):\n",
    "    shop = FakerInstance.pizza_shop()\n",
    "    # Each Order can have 1-10 pizzas in it\n",
    "    pizzas = []\n",
    "    for pizza in range(random.randint(1, MAX_NUMBER_PIZZAS_IN_ORDER)):\n",
    "        # Each Pizza can have 0-5 additional toppings on it\n",
    "        toppings = []\n",
    "        for topping in range(random.randint(0, MAX_ADDITIONAL_TOPPINGS_IN_PIZZA)):\n",
    "            toppings.append(FakerInstance.pizza_topping())\n",
    "        pizzas.append({\n",
    "            'pizzaName': FakerInstance.pizza_name(),\n",
    "            'additionalToppings': toppings\n",
    "        })\n",
    "    # message composition\n",
    "    message = {\n",
    "        'id': orderid,\n",
    "        'shop': shop,\n",
    "        'name': FakerInstance.unique.name(),\n",
    "        'phoneNumber': FakerInstance.unique.phone_number(),\n",
    "        'address': FakerInstance.address(),\n",
    "        'pizzas': pizzas\n",
    "    }\n",
    "    key = {'shop': shop}\n",
    "    return message, key"
   ]
  },
  {
   "cell_type": "code",
   "execution_count": 7,
   "metadata": {},
   "outputs": [
    {
     "name": "stdout",
     "output_type": "stream",
     "text": [
      "Sending: {'id': 9, 'shop': 'Marios Pizza', 'name': 'Jason Brown', 'phoneNumber': '(510)290-7469', 'address': '2701 Samuel Summit Suite 938\\nRyanbury, MH 78954', 'pizzas': [{'pizzaName': 'Marinara', 'additionalToppings': ['🫑 green peppers', '🍍 pineapple', '🥚 egg']}]}\n",
      "Sending: {'id': 10, 'shop': 'Ill Make You a Pizza You Cant Refuse', 'name': 'Edward Liu', 'phoneNumber': '(661)154-9335x314', 'address': '561 Lester Points Apt. 140\\nEast Katelynland, NC 75965', 'pizzas': [{'pizzaName': 'Diavola', 'additionalToppings': ['🐟 tuna']}, {'pizzaName': 'Marinara', 'additionalToppings': ['🥚 egg', '🍅 tomato', '🥓 bacon']}, {'pizzaName': 'Salami', 'additionalToppings': ['🍓 strawberry', '🫑 green peppers', '🫒 olives', '🍍 pineapple']}, {'pizzaName': 'Diavola', 'additionalToppings': ['🍓 strawberry']}, {'pizzaName': 'Mari & Monti', 'additionalToppings': ['🐟 tuna', '🫑 green peppers', '🥓 bacon', '🧄 garlic']}, {'pizzaName': 'Margherita', 'additionalToppings': ['🍓 strawberry']}, {'pizzaName': 'Marinara', 'additionalToppings': ['🐟 tuna', '🍅 tomato', '🐟 tuna', '🍓 strawberry', '🫑 green peppers']}, {'pizzaName': 'Marinara', 'additionalToppings': ['🍅 tomato']}]}\n"
     ]
    },
    {
     "ename": "KeyboardInterrupt",
     "evalue": "",
     "output_type": "error",
     "traceback": [
      "\u001b[1;31m---------------------------------------------------------------------------\u001b[0m",
      "\u001b[1;31mKeyboardInterrupt\u001b[0m                         Traceback (most recent call last)",
      "\u001b[1;32mf:\\tai_lieu\\Nam_4\\semester 7th\\Parallel and distributed computing\\assignment\\slide 5-6\\FakerData\\pizza-faker-stream-with-kafka-and-python\\producer.ipynb Cell 6\u001b[0m in \u001b[0;36m<cell line: 1>\u001b[1;34m()\u001b[0m\n\u001b[0;32m      <a href='vscode-notebook-cell:/f%3A/tai_lieu/Nam_4/semester%207th/Parallel%20and%20distributed%20computing/assignment/slide%205-6/FakerData/pizza-faker-stream-with-kafka-and-python/producer.ipynb#W5sZmlsZQ%3D%3D?line=5'>6</a>\u001b[0m producer\u001b[39m.\u001b[39msend(topic_name,\n\u001b[0;32m      <a href='vscode-notebook-cell:/f%3A/tai_lieu/Nam_4/semester%207th/Parallel%20and%20distributed%20computing/assignment/slide%205-6/FakerData/pizza-faker-stream-with-kafka-and-python/producer.ipynb#W5sZmlsZQ%3D%3D?line=6'>7</a>\u001b[0m               key\u001b[39m=\u001b[39mkey,\n\u001b[0;32m      <a href='vscode-notebook-cell:/f%3A/tai_lieu/Nam_4/semester%207th/Parallel%20and%20distributed%20computing/assignment/slide%205-6/FakerData/pizza-faker-stream-with-kafka-and-python/producer.ipynb#W5sZmlsZQ%3D%3D?line=7'>8</a>\u001b[0m               value\u001b[39m=\u001b[39mmessage)\n\u001b[0;32m      <a href='vscode-notebook-cell:/f%3A/tai_lieu/Nam_4/semester%207th/Parallel%20and%20distributed%20computing/assignment/slide%205-6/FakerData/pizza-faker-stream-with-kafka-and-python/producer.ipynb#W5sZmlsZQ%3D%3D?line=8'>9</a>\u001b[0m \u001b[39m# 2 seconds of sleep time before the next message\u001b[39;00m\n\u001b[1;32m---> <a href='vscode-notebook-cell:/f%3A/tai_lieu/Nam_4/semester%207th/Parallel%20and%20distributed%20computing/assignment/slide%205-6/FakerData/pizza-faker-stream-with-kafka-and-python/producer.ipynb#W5sZmlsZQ%3D%3D?line=9'>10</a>\u001b[0m time\u001b[39m.\u001b[39;49msleep(\u001b[39m2\u001b[39;49m)\n\u001b[0;32m     <a href='vscode-notebook-cell:/f%3A/tai_lieu/Nam_4/semester%207th/Parallel%20and%20distributed%20computing/assignment/slide%205-6/FakerData/pizza-faker-stream-with-kafka-and-python/producer.ipynb#W5sZmlsZQ%3D%3D?line=11'>12</a>\u001b[0m \u001b[39m# Force sending of all messages\u001b[39;00m\n\u001b[0;32m     <a href='vscode-notebook-cell:/f%3A/tai_lieu/Nam_4/semester%207th/Parallel%20and%20distributed%20computing/assignment/slide%205-6/FakerData/pizza-faker-stream-with-kafka-and-python/producer.ipynb#W5sZmlsZQ%3D%3D?line=12'>13</a>\u001b[0m \u001b[39mif\u001b[39;00m (i \u001b[39m%\u001b[39m \u001b[39m100\u001b[39m) \u001b[39m==\u001b[39m \u001b[39m0\u001b[39m:\n",
      "\u001b[1;31mKeyboardInterrupt\u001b[0m: "
     ]
    }
   ],
   "source": [
    "while i <  100:\n",
    "    message, key = produce_pizza_order(fake,i)\n",
    "\n",
    "    print(\"Sending: {}\".format(message))\n",
    "    # sending the message to Kafka\n",
    "    producer.send(topic_name,\n",
    "                  key=key,\n",
    "                  value=message)\n",
    "    # 2 seconds of sleep time before the next message\n",
    "    time.sleep(2)\n",
    "\n",
    "    # Force sending of all messages\n",
    "    if (i % 100) == 0:\n",
    "        producer.flush()\n",
    "    i=i+1\n",
    "producer.flush()"
   ]
  }
 ],
 "metadata": {
  "kernelspec": {
   "display_name": "Python 3.10.6 ('cs231')",
   "language": "python",
   "name": "python3"
  },
  "language_info": {
   "codemirror_mode": {
    "name": "ipython",
    "version": 3
   },
   "file_extension": ".py",
   "mimetype": "text/x-python",
   "name": "python",
   "nbconvert_exporter": "python",
   "pygments_lexer": "ipython3",
   "version": "3.10.6"
  },
  "orig_nbformat": 4,
  "vscode": {
   "interpreter": {
    "hash": "59f5416c96fce867bc11ba5bb5439836c52143b711d913ce74fb5702e89c709d"
   }
  }
 },
 "nbformat": 4,
 "nbformat_minor": 2
}
